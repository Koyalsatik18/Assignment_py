{
  "nbformat": 4,
  "nbformat_minor": 0,
  "metadata": {
    "colab": {
      "provenance": [],
      "authorship_tag": "ABX9TyMI0uEXyyHBhwPDL8oXKZqp",
      "include_colab_link": true
    },
    "kernelspec": {
      "name": "python3",
      "display_name": "Python 3"
    },
    "language_info": {
      "name": "python"
    }
  },
  "cells": [
    {
      "cell_type": "markdown",
      "metadata": {
        "id": "view-in-github",
        "colab_type": "text"
      },
      "source": [
        "<a href=\"https://colab.research.google.com/github/Koyalsatik18/Assignment_py/blob/main/Assignment.ipynb\" target=\"_parent\"><img src=\"https://colab.research.google.com/assets/colab-badge.svg\" alt=\"Open In Colab\"/></a>"
      ]
    },
    {
      "cell_type": "code",
      "execution_count": null,
      "metadata": {
        "colab": {
          "base_uri": "https://localhost:8080/"
        },
        "id": "8SixMI_GQser",
        "outputId": "ffd0edfa-c255-4c3f-ae41-8f554103cf79"
      },
      "outputs": [
        {
          "output_type": "stream",
          "name": "stdout",
          "text": [
            "apbqcr\n"
          ]
        }
      ],
      "source": [
        "\n",
        "#question 1\n",
        "\"\"\"\"\"\n",
        "input\n",
        "word1=\"abc\"\n",
        "word2=\"pqr\"\n",
        "output\n",
        "apbqcr\n",
        "\"\"\"\n",
        "def merge_equal_length_words(word1, word2):\n",
        "    return ''.join(a + b for a, b in zip(word1, word2))\n",
        "\n",
        "# Example usage\n",
        "word1 = \"abc\"\n",
        "word2 = \"pqr\"\n",
        "result = merge_equal_length_words(word1, word2)\n",
        "print(result)"
      ]
    },
    {
      "cell_type": "code",
      "source": [
        "#question2\n",
        "\"\"\"\n",
        "input:\n",
        "word1=\"abcd\"\n",
        "word2=\"pq\"\n",
        "output:\n",
        "apbqcd\n",
        "\"\"\"\n",
        "def merge_alternately(word1, word2):\n",
        "    merged = ''.join(a + b for a, b in zip(word1, word2))\n",
        "    return merged + word1[len(word2):] + word2[len(word1):]\n",
        "\n",
        "# Example usage\n",
        "word1 = \"abc\"\n",
        "word2 = \"pqr\"\n",
        "result = merge_alternately(word1, word2)\n",
        "print(result)  # ouput"
      ],
      "metadata": {
        "colab": {
          "base_uri": "https://localhost:8080/"
        },
        "id": "Tf97AhpvRME6",
        "outputId": "3329adb9-8747-4824-f02b-23ad25258f7e"
      },
      "execution_count": null,
      "outputs": [
        {
          "output_type": "stream",
          "name": "stdout",
          "text": [
            "apbqcr\n"
          ]
        }
      ]
    },
    {
      "cell_type": "code",
      "source": [
        "#question 5\n",
        "\"\"\"\n",
        "input:\n",
        "str1=\"ABABAB\"\n",
        "str2=\"ABAB\"\n",
        "output:\n",
        "AB\n",
        "\"\"\"\n",
        "import math\n",
        "\n",
        "def gcd_of_strings(str1, str2):\n",
        "    def is_divisible(s, t):\n",
        "        return s == t * (len(s) // len(t))\n",
        "\n",
        "    gcd_length = math.gcd(len(str1), len(str2))\n",
        "    gcd_string = str1[:gcd_length]\n",
        "\n",
        "    if is_divisible(str1, gcd_string) and is_divisible(str2, gcd_string):\n",
        "        return gcd_string\n",
        "    return \"\"\n",
        "\n",
        "# Example usage\n",
        "str1 = \"ABABAB\"\n",
        "str2 = \"ABAB\"\n",
        "result = gcd_of_strings(str1, str2)\n",
        "print(result)"
      ],
      "metadata": {
        "colab": {
          "base_uri": "https://localhost:8080/"
        },
        "id": "2YD8JxdYQ1Pu",
        "outputId": "30c2c286-975e-49d6-e234-ba0764b739f1"
      },
      "execution_count": null,
      "outputs": [
        {
          "output_type": "stream",
          "name": "stdout",
          "text": [
            "AB\n"
          ]
        }
      ]
    },
    {
      "cell_type": "code",
      "source": [
        "\n",
        "#question  4\n",
        "\"\"\"\n",
        "input:\n",
        "str1+\"ABCABC\"\n",
        "str2+\"ABC\"\n",
        "output:\n",
        "ABC\n",
        "\"\"\"\n",
        "import math\n",
        "\n",
        "def gcd_of_strings(str1, str2):\n",
        "    def is_divisible(s, t):\n",
        "        return s == t * (len(s) // len(t))\n",
        "\n",
        "    gcd_length = math.gcd(len(str1), len(str2))\n",
        "    gcd_string = str1[:gcd_length]\n",
        "\n",
        "    if is_divisible(str1, gcd_string) and is_divisible(str2, gcd_string):\n",
        "        return gcd_string\n",
        "    return \"\"\n",
        "\n",
        "# Example usage\n",
        "str1 = \"ABCABC\"\n",
        "str2 = \"ABC\"\n",
        "result = gcd_of_strings(str1, str2)\n",
        "print(result)"
      ],
      "metadata": {
        "colab": {
          "base_uri": "https://localhost:8080/"
        },
        "id": "KzXcI491UVjD",
        "outputId": "e7e1b5a3-2305-46b0-ff1a-f8e544296675"
      },
      "execution_count": null,
      "outputs": [
        {
          "output_type": "stream",
          "name": "stdout",
          "text": [
            "ABC\n"
          ]
        }
      ]
    },
    {
      "cell_type": "code",
      "source": [
        " #question 6\n",
        "\"\"\"\n",
        " input:\n",
        " str1=\"LEET\"\n",
        " str2=\"CODE\"\n",
        " output:\n",
        " \" \"\n",
        " \"\"\"\n",
        "import math\n",
        "\n",
        "def gcd_of_strings(str1, str2):\n",
        "    def is_divisible(s, t):\n",
        "        return s == t * (len(s) // len(t))\n",
        "\n",
        "    gcd_length = math.gcd(len(str1), len(str2))\n",
        "    gcd_string = str1[:gcd_length]\n",
        "\n",
        "    if is_divisible(str1, gcd_string) and is_divisible(str2, gcd_string):\n",
        "        return gcd_string\n",
        "    return \"\"\n",
        "\n",
        "# Example usage\n",
        "str1 = \"LEFT\"\n",
        "str2 = \"CODE\"\n",
        "result = gcd_of_strings(str1, str2)\n",
        "print(result)"
      ],
      "metadata": {
        "colab": {
          "base_uri": "https://localhost:8080/"
        },
        "id": "DT8pr9qUUkyR",
        "outputId": "5756e6dc-f725-486d-e3be-c0dd754b6d05"
      },
      "execution_count": null,
      "outputs": [
        {
          "output_type": "stream",
          "name": "stdout",
          "text": [
            "\n"
          ]
        }
      ]
    },
    {
      "cell_type": "code",
      "source": [
        "#question 3:\n",
        "\"\"\"\n",
        "input:\n",
        "word1=\"abcd\"\n",
        "word2=\"pq\"\n",
        "output:\n",
        "apbqcd\n",
        "\"\"\"\n",
        "def merge_strings(word1, word2):\n",
        "    result = []\n",
        "    i, j = 0, 0\n",
        "    while i < len(word1) or j < len(word2):\n",
        "        if i < len(word1):\n",
        "            result.append(word1[i])\n",
        "            i += 1\n",
        "        if j < len(word2):\n",
        "            result.append(word2[j])\n",
        "            j += 1\n",
        "    return \"\".join(result)\n",
        "\n",
        "word1 = \"abcd\"\n",
        "word2 = \"pq\"\n",
        "output = merge_strings(word1, word2)\n",
        "print(output)\n"
      ],
      "metadata": {
        "colab": {
          "base_uri": "https://localhost:8080/"
        },
        "id": "Zkdwnrh4WNR0",
        "outputId": "5f01b6e6-16bc-4731-cfd8-1249d7a3ba0f"
      },
      "execution_count": 19,
      "outputs": [
        {
          "output_type": "stream",
          "name": "stdout",
          "text": [
            "apbqcd\n"
          ]
        }
      ]
    }
  ]
}